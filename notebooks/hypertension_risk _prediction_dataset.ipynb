{
 "cells": [
  {
   "cell_type": "code",
   "execution_count": 182,
   "id": "7a1c8bdb-5514-4b85-943b-0d3c629a5551",
   "metadata": {},
   "outputs": [],
   "source": [
    "import pandas as pd\n",
    "import numpy as np\n",
    "import matplotlib.pyplot as plt\n",
    "import seaborn as sns\n",
    "\n",
    "import warnings\n",
    "warnings.filterwarnings('ignore')"
   ]
  },
  {
   "cell_type": "code",
   "execution_count": 184,
   "id": "3b787a8c-6f3c-4923-8658-61ad9b9a6d3a",
   "metadata": {},
   "outputs": [],
   "source": [
    "df = pd.read_csv('../datasets/hypertension_dataset.csv')"
   ]
  },
  {
   "cell_type": "code",
   "execution_count": 186,
   "id": "ccc3b298-e2e3-40ae-ba3e-96a041ad8c76",
   "metadata": {},
   "outputs": [
    {
     "data": {
      "text/html": [
       "<div>\n",
       "<style scoped>\n",
       "    .dataframe tbody tr th:only-of-type {\n",
       "        vertical-align: middle;\n",
       "    }\n",
       "\n",
       "    .dataframe tbody tr th {\n",
       "        vertical-align: top;\n",
       "    }\n",
       "\n",
       "    .dataframe thead th {\n",
       "        text-align: right;\n",
       "    }\n",
       "</style>\n",
       "<table border=\"1\" class=\"dataframe\">\n",
       "  <thead>\n",
       "    <tr style=\"text-align: right;\">\n",
       "      <th></th>\n",
       "      <th>Age</th>\n",
       "      <th>Salt_Intake</th>\n",
       "      <th>Stress_Score</th>\n",
       "      <th>BP_History</th>\n",
       "      <th>Sleep_Duration</th>\n",
       "      <th>BMI</th>\n",
       "      <th>Medication</th>\n",
       "      <th>Family_History</th>\n",
       "      <th>Exercise_Level</th>\n",
       "      <th>Smoking_Status</th>\n",
       "      <th>Has_Hypertension</th>\n",
       "    </tr>\n",
       "  </thead>\n",
       "  <tbody>\n",
       "    <tr>\n",
       "      <th>0</th>\n",
       "      <td>69</td>\n",
       "      <td>8.0</td>\n",
       "      <td>9</td>\n",
       "      <td>Normal</td>\n",
       "      <td>6.4</td>\n",
       "      <td>25.8</td>\n",
       "      <td>NaN</td>\n",
       "      <td>Yes</td>\n",
       "      <td>Low</td>\n",
       "      <td>Non-Smoker</td>\n",
       "      <td>Yes</td>\n",
       "    </tr>\n",
       "    <tr>\n",
       "      <th>1</th>\n",
       "      <td>32</td>\n",
       "      <td>11.7</td>\n",
       "      <td>10</td>\n",
       "      <td>Normal</td>\n",
       "      <td>5.4</td>\n",
       "      <td>23.4</td>\n",
       "      <td>NaN</td>\n",
       "      <td>No</td>\n",
       "      <td>Low</td>\n",
       "      <td>Non-Smoker</td>\n",
       "      <td>No</td>\n",
       "    </tr>\n",
       "    <tr>\n",
       "      <th>2</th>\n",
       "      <td>78</td>\n",
       "      <td>9.5</td>\n",
       "      <td>3</td>\n",
       "      <td>Normal</td>\n",
       "      <td>7.1</td>\n",
       "      <td>18.7</td>\n",
       "      <td>NaN</td>\n",
       "      <td>No</td>\n",
       "      <td>Moderate</td>\n",
       "      <td>Non-Smoker</td>\n",
       "      <td>No</td>\n",
       "    </tr>\n",
       "    <tr>\n",
       "      <th>3</th>\n",
       "      <td>38</td>\n",
       "      <td>10.0</td>\n",
       "      <td>10</td>\n",
       "      <td>Hypertension</td>\n",
       "      <td>4.2</td>\n",
       "      <td>22.1</td>\n",
       "      <td>ACE Inhibitor</td>\n",
       "      <td>No</td>\n",
       "      <td>Low</td>\n",
       "      <td>Non-Smoker</td>\n",
       "      <td>Yes</td>\n",
       "    </tr>\n",
       "    <tr>\n",
       "      <th>4</th>\n",
       "      <td>41</td>\n",
       "      <td>9.8</td>\n",
       "      <td>1</td>\n",
       "      <td>Prehypertension</td>\n",
       "      <td>5.8</td>\n",
       "      <td>16.2</td>\n",
       "      <td>Other</td>\n",
       "      <td>No</td>\n",
       "      <td>Moderate</td>\n",
       "      <td>Non-Smoker</td>\n",
       "      <td>No</td>\n",
       "    </tr>\n",
       "  </tbody>\n",
       "</table>\n",
       "</div>"
      ],
      "text/plain": [
       "   Age  Salt_Intake  Stress_Score       BP_History  Sleep_Duration   BMI  \\\n",
       "0   69          8.0             9           Normal             6.4  25.8   \n",
       "1   32         11.7            10           Normal             5.4  23.4   \n",
       "2   78          9.5             3           Normal             7.1  18.7   \n",
       "3   38         10.0            10     Hypertension             4.2  22.1   \n",
       "4   41          9.8             1  Prehypertension             5.8  16.2   \n",
       "\n",
       "      Medication Family_History Exercise_Level Smoking_Status Has_Hypertension  \n",
       "0            NaN            Yes            Low     Non-Smoker              Yes  \n",
       "1            NaN             No            Low     Non-Smoker               No  \n",
       "2            NaN             No       Moderate     Non-Smoker               No  \n",
       "3  ACE Inhibitor             No            Low     Non-Smoker              Yes  \n",
       "4          Other             No       Moderate     Non-Smoker               No  "
      ]
     },
     "execution_count": 186,
     "metadata": {},
     "output_type": "execute_result"
    }
   ],
   "source": [
    "df.head()"
   ]
  },
  {
   "cell_type": "code",
   "execution_count": 188,
   "id": "47f84923-89b6-4136-b601-a9d7e24fcb69",
   "metadata": {},
   "outputs": [
    {
     "name": "stdout",
     "output_type": "stream",
     "text": [
      "<class 'pandas.core.frame.DataFrame'>\n",
      "RangeIndex: 1985 entries, 0 to 1984\n",
      "Data columns (total 11 columns):\n",
      " #   Column            Non-Null Count  Dtype  \n",
      "---  ------            --------------  -----  \n",
      " 0   Age               1985 non-null   int64  \n",
      " 1   Salt_Intake       1985 non-null   float64\n",
      " 2   Stress_Score      1985 non-null   int64  \n",
      " 3   BP_History        1985 non-null   object \n",
      " 4   Sleep_Duration    1985 non-null   float64\n",
      " 5   BMI               1985 non-null   float64\n",
      " 6   Medication        1186 non-null   object \n",
      " 7   Family_History    1985 non-null   object \n",
      " 8   Exercise_Level    1985 non-null   object \n",
      " 9   Smoking_Status    1985 non-null   object \n",
      " 10  Has_Hypertension  1985 non-null   object \n",
      "dtypes: float64(3), int64(2), object(6)\n",
      "memory usage: 170.7+ KB\n"
     ]
    }
   ],
   "source": [
    "df.info()"
   ]
  },
  {
   "cell_type": "code",
   "execution_count": 190,
   "id": "89a71e85-f458-4470-84e9-2f9fa5ccb8a8",
   "metadata": {},
   "outputs": [
    {
     "data": {
      "text/html": [
       "<div>\n",
       "<style scoped>\n",
       "    .dataframe tbody tr th:only-of-type {\n",
       "        vertical-align: middle;\n",
       "    }\n",
       "\n",
       "    .dataframe tbody tr th {\n",
       "        vertical-align: top;\n",
       "    }\n",
       "\n",
       "    .dataframe thead th {\n",
       "        text-align: right;\n",
       "    }\n",
       "</style>\n",
       "<table border=\"1\" class=\"dataframe\">\n",
       "  <thead>\n",
       "    <tr style=\"text-align: right;\">\n",
       "      <th></th>\n",
       "      <th>Age</th>\n",
       "      <th>Salt_Intake</th>\n",
       "      <th>Stress_Score</th>\n",
       "      <th>Sleep_Duration</th>\n",
       "      <th>BMI</th>\n",
       "    </tr>\n",
       "  </thead>\n",
       "  <tbody>\n",
       "    <tr>\n",
       "      <th>count</th>\n",
       "      <td>1985.000000</td>\n",
       "      <td>1985.000000</td>\n",
       "      <td>1985.000000</td>\n",
       "      <td>1985.000000</td>\n",
       "      <td>1985.000000</td>\n",
       "    </tr>\n",
       "    <tr>\n",
       "      <th>mean</th>\n",
       "      <td>50.341058</td>\n",
       "      <td>8.531688</td>\n",
       "      <td>4.979345</td>\n",
       "      <td>6.452242</td>\n",
       "      <td>26.015315</td>\n",
       "    </tr>\n",
       "    <tr>\n",
       "      <th>std</th>\n",
       "      <td>19.442042</td>\n",
       "      <td>1.994907</td>\n",
       "      <td>3.142303</td>\n",
       "      <td>1.542207</td>\n",
       "      <td>4.512857</td>\n",
       "    </tr>\n",
       "    <tr>\n",
       "      <th>min</th>\n",
       "      <td>18.000000</td>\n",
       "      <td>2.500000</td>\n",
       "      <td>0.000000</td>\n",
       "      <td>1.500000</td>\n",
       "      <td>11.900000</td>\n",
       "    </tr>\n",
       "    <tr>\n",
       "      <th>25%</th>\n",
       "      <td>34.000000</td>\n",
       "      <td>7.200000</td>\n",
       "      <td>2.000000</td>\n",
       "      <td>5.400000</td>\n",
       "      <td>23.000000</td>\n",
       "    </tr>\n",
       "    <tr>\n",
       "      <th>50%</th>\n",
       "      <td>50.000000</td>\n",
       "      <td>8.500000</td>\n",
       "      <td>5.000000</td>\n",
       "      <td>6.500000</td>\n",
       "      <td>25.900000</td>\n",
       "    </tr>\n",
       "    <tr>\n",
       "      <th>75%</th>\n",
       "      <td>67.000000</td>\n",
       "      <td>9.900000</td>\n",
       "      <td>8.000000</td>\n",
       "      <td>7.500000</td>\n",
       "      <td>29.100000</td>\n",
       "    </tr>\n",
       "    <tr>\n",
       "      <th>max</th>\n",
       "      <td>84.000000</td>\n",
       "      <td>16.400000</td>\n",
       "      <td>10.000000</td>\n",
       "      <td>11.400000</td>\n",
       "      <td>41.900000</td>\n",
       "    </tr>\n",
       "  </tbody>\n",
       "</table>\n",
       "</div>"
      ],
      "text/plain": [
       "               Age  Salt_Intake  Stress_Score  Sleep_Duration          BMI\n",
       "count  1985.000000  1985.000000   1985.000000     1985.000000  1985.000000\n",
       "mean     50.341058     8.531688      4.979345        6.452242    26.015315\n",
       "std      19.442042     1.994907      3.142303        1.542207     4.512857\n",
       "min      18.000000     2.500000      0.000000        1.500000    11.900000\n",
       "25%      34.000000     7.200000      2.000000        5.400000    23.000000\n",
       "50%      50.000000     8.500000      5.000000        6.500000    25.900000\n",
       "75%      67.000000     9.900000      8.000000        7.500000    29.100000\n",
       "max      84.000000    16.400000     10.000000       11.400000    41.900000"
      ]
     },
     "execution_count": 190,
     "metadata": {},
     "output_type": "execute_result"
    }
   ],
   "source": [
    "df.describe()"
   ]
  },
  {
   "cell_type": "code",
   "execution_count": 192,
   "id": "bc0abcea-d05d-4de2-847a-db6ed993d8c0",
   "metadata": {},
   "outputs": [
    {
     "data": {
      "text/plain": [
       "<Axes: ylabel='Exercise_Level'>"
      ]
     },
     "execution_count": 192,
     "metadata": {},
     "output_type": "execute_result"
    },
    {
     "data": {
      "image/png": "[encoded data removed]",
      "text/plain": [
       "<Figure size 640x480 with 1 Axes>"
      ]
     },
     "metadata": {},
     "output_type": "display_data"
    }
   ],
   "source": [
    "sns.barplot(df['Exercise_Level'])"
   ]
  },
  {
   "cell_type": "code",
   "execution_count": 194,
   "id": "8ab2e455-ccef-46bf-a461-6da203fa8c83",
   "metadata": {},
   "outputs": [],
   "source": [
    "df['Medication'] = df['Medication'].fillna('No Medication')"
   ]
  },
  {
   "cell_type": "code",
   "execution_count": 196,
   "id": "742a3be8-a8e3-4dc3-8161-057223559432",
   "metadata": {},
   "outputs": [
    {
     "data": {
      "text/plain": [
       "<Axes: ylabel='Medication'>"
      ]
     },
     "execution_count": 196,
     "metadata": {},
     "output_type": "execute_result"
    },
    {
     "data": {
      "image/png": "[encoded data removed]",
      "text/plain": [
       "<Figure size 640x480 with 1 Axes>"
      ]
     },
     "metadata": {},
     "output_type": "display_data"
    }
   ],
   "source": [
    "sns.barplot(df['Medication'])"
   ]
  },
  {
   "cell_type": "code",
   "execution_count": 198,
   "id": "f1800f04-3cbd-4af2-b0ce-54949e80f713",
   "metadata": {},
   "outputs": [
    {
     "data": {
      "text/plain": [
       "<Axes: ylabel='BP_History'>"
      ]
     },
     "execution_count": 198,
     "metadata": {},
     "output_type": "execute_result"
    },
    {
     "data": {
      "image/png": "[encoded data removed]",
      "text/plain": [
       "<Figure size 640x480 with 1 Axes>"
      ]
     },
     "metadata": {},
     "output_type": "display_data"
    }
   ],
   "source": [
    "sns.barplot(df['BP_History'])"
   ]
  },
  {
   "cell_type": "code",
   "execution_count": 200,
   "id": "feb0318e-a7a9-4bf6-8a57-477856de5d11",
   "metadata": {},
   "outputs": [
    {
     "data": {
      "text/plain": [
       "Has_Hypertension\n",
       "Yes    1032\n",
       "No      953\n",
       "Name: count, dtype: int64"
      ]
     },
     "execution_count": 200,
     "metadata": {},
     "output_type": "execute_result"
    }
   ],
   "source": [
    "df['Has_Hypertension'].value_counts()"
   ]
  },
  {
   "cell_type": "code",
   "execution_count": 202,
   "id": "a26e2898-59e0-4331-8d51-c85d86b424fd",
   "metadata": {},
   "outputs": [
    {
     "data": {
      "text/plain": [
       "Smoking_Status\n",
       "Non-Smoker    1417\n",
       "Smoker         568\n",
       "Name: count, dtype: int64"
      ]
     },
     "execution_count": 202,
     "metadata": {},
     "output_type": "execute_result"
    }
   ],
   "source": [
    "df['Smoking_Status'].value_counts()"
   ]
  },
  {
   "cell_type": "code",
   "execution_count": 204,
   "id": "81461ddc-1f07-453b-a498-8fa059451383",
   "metadata": {},
   "outputs": [],
   "source": [
    "df['BP_History'] = df['BP_History'].replace({'Normal': 0, 'Hypertension': 1, 'Prehypertension': 2})\n",
    "df['Exercise_Level'] = df['Exercise_Level'].replace({'High': 0, 'Moderate': 1, 'Low': 2,})\n",
    "df['Family_History'] = df['Family_History'].replace({'No': 0, 'Yes': 1,})\n",
    "df['Has_Hypertension'] = df['Has_Hypertension'].replace({'No': 0, 'Yes': 1,})\n",
    "df['Smoking_Status'] = df['Smoking_Status'].replace({'Non-Smoker': 0, 'Smoker': 1,})\n",
    "df = pd.get_dummies(df, columns=['Medication'])"
   ]
  },
  {
   "cell_type": "code",
   "execution_count": 206,
   "id": "f68268f7-e946-4baf-9a2e-b2c52092c593",
   "metadata": {},
   "outputs": [
    {
     "data": {
      "text/html": [
       "<div>\n",
       "<style scoped>\n",
       "    .dataframe tbody tr th:only-of-type {\n",
       "        vertical-align: middle;\n",
       "    }\n",
       "\n",
       "    .dataframe tbody tr th {\n",
       "        vertical-align: top;\n",
       "    }\n",
       "\n",
       "    .dataframe thead th {\n",
       "        text-align: right;\n",
       "    }\n",
       "</style>\n",
       "<table border=\"1\" class=\"dataframe\">\n",
       "  <thead>\n",
       "    <tr style=\"text-align: right;\">\n",
       "      <th></th>\n",
       "      <th>Age</th>\n",
       "      <th>Salt_Intake</th>\n",
       "      <th>Stress_Score</th>\n",
       "      <th>BP_History</th>\n",
       "      <th>Sleep_Duration</th>\n",
       "      <th>BMI</th>\n",
       "      <th>Family_History</th>\n",
       "      <th>Exercise_Level</th>\n",
       "      <th>Smoking_Status</th>\n",
       "      <th>Has_Hypertension</th>\n",
       "      <th>Medication_ACE Inhibitor</th>\n",
       "      <th>Medication_Beta Blocker</th>\n",
       "      <th>Medication_Diuretic</th>\n",
       "      <th>Medication_No Medication</th>\n",
       "      <th>Medication_Other</th>\n",
       "    </tr>\n",
       "  </thead>\n",
       "  <tbody>\n",
       "    <tr>\n",
       "      <th>0</th>\n",
       "      <td>69</td>\n",
       "      <td>8.0</td>\n",
       "      <td>9</td>\n",
       "      <td>0</td>\n",
       "      <td>6.4</td>\n",
       "      <td>25.8</td>\n",
       "      <td>1</td>\n",
       "      <td>2</td>\n",
       "      <td>0</td>\n",
       "      <td>1</td>\n",
       "      <td>False</td>\n",
       "      <td>False</td>\n",
       "      <td>False</td>\n",
       "      <td>True</td>\n",
       "      <td>False</td>\n",
       "    </tr>\n",
       "    <tr>\n",
       "      <th>1</th>\n",
       "      <td>32</td>\n",
       "      <td>11.7</td>\n",
       "      <td>10</td>\n",
       "      <td>0</td>\n",
       "      <td>5.4</td>\n",
       "      <td>23.4</td>\n",
       "      <td>0</td>\n",
       "      <td>2</td>\n",
       "      <td>0</td>\n",
       "      <td>0</td>\n",
       "      <td>False</td>\n",
       "      <td>False</td>\n",
       "      <td>False</td>\n",
       "      <td>True</td>\n",
       "      <td>False</td>\n",
       "    </tr>\n",
       "    <tr>\n",
       "      <th>2</th>\n",
       "      <td>78</td>\n",
       "      <td>9.5</td>\n",
       "      <td>3</td>\n",
       "      <td>0</td>\n",
       "      <td>7.1</td>\n",
       "      <td>18.7</td>\n",
       "      <td>0</td>\n",
       "      <td>1</td>\n",
       "      <td>0</td>\n",
       "      <td>0</td>\n",
       "      <td>False</td>\n",
       "      <td>False</td>\n",
       "      <td>False</td>\n",
       "      <td>True</td>\n",
       "      <td>False</td>\n",
       "    </tr>\n",
       "    <tr>\n",
       "      <th>3</th>\n",
       "      <td>38</td>\n",
       "      <td>10.0</td>\n",
       "      <td>10</td>\n",
       "      <td>1</td>\n",
       "      <td>4.2</td>\n",
       "      <td>22.1</td>\n",
       "      <td>0</td>\n",
       "      <td>2</td>\n",
       "      <td>0</td>\n",
       "      <td>1</td>\n",
       "      <td>True</td>\n",
       "      <td>False</td>\n",
       "      <td>False</td>\n",
       "      <td>False</td>\n",
       "      <td>False</td>\n",
       "    </tr>\n",
       "    <tr>\n",
       "      <th>4</th>\n",
       "      <td>41</td>\n",
       "      <td>9.8</td>\n",
       "      <td>1</td>\n",
       "      <td>2</td>\n",
       "      <td>5.8</td>\n",
       "      <td>16.2</td>\n",
       "      <td>0</td>\n",
       "      <td>1</td>\n",
       "      <td>0</td>\n",
       "      <td>0</td>\n",
       "      <td>False</td>\n",
       "      <td>False</td>\n",
       "      <td>False</td>\n",
       "      <td>False</td>\n",
       "      <td>True</td>\n",
       "    </tr>\n",
       "  </tbody>\n",
       "</table>\n",
       "</div>"
      ],
      "text/plain": [
       "   Age  Salt_Intake  Stress_Score  BP_History  Sleep_Duration   BMI  \\\n",
       "0   69          8.0             9           0             6.4  25.8   \n",
       "1   32         11.7            10           0             5.4  23.4   \n",
       "2   78          9.5             3           0             7.1  18.7   \n",
       "3   38         10.0            10           1             4.2  22.1   \n",
       "4   41          9.8             1           2             5.8  16.2   \n",
       "\n",
       "   Family_History  Exercise_Level  Smoking_Status  Has_Hypertension  \\\n",
       "0               1               2               0                 1   \n",
       "1               0               2               0                 0   \n",
       "2               0               1               0                 0   \n",
       "3               0               2               0                 1   \n",
       "4               0               1               0                 0   \n",
       "\n",
       "   Medication_ACE Inhibitor  Medication_Beta Blocker  Medication_Diuretic  \\\n",
       "0                     False                    False                False   \n",
       "1                     False                    False                False   \n",
       "2                     False                    False                False   \n",
       "3                      True                    False                False   \n",
       "4                     False                    False                False   \n",
       "\n",
       "   Medication_No Medication  Medication_Other  \n",
       "0                      True             False  \n",
       "1                      True             False  \n",
       "2                      True             False  \n",
       "3                     False             False  \n",
       "4                     False              True  "
      ]
     },
     "execution_count": 206,
     "metadata": {},
     "output_type": "execute_result"
    }
   ],
   "source": [
    "df.head()"
   ]
  },
  {
   "cell_type": "code",
   "execution_count": 210,
   "id": "552dc45e-e95b-4f53-a206-469c06830c74",
   "metadata": {},
   "outputs": [],
   "source": [
    "from sklearn.preprocessing import StandardScaler\n",
    "from sklearn.model_selection import train_test_split"
   ]
  },
  {
   "cell_type": "code",
   "execution_count": 218,
   "id": "e12a20fa-11ef-4930-b1cb-ea45bea2bd8c",
   "metadata": {},
   "outputs": [],
   "source": [
    "X_train, X_test, y_train, y_test = train_test_split(df.drop(['Has_Hypertension'], axis=1), df['Has_Hypertension'], random_state=3, stratify=df['Has_Hypertension'])"
   ]
  },
  {
   "cell_type": "code",
   "execution_count": 220,
   "id": "325c5dac-ab2b-4997-ba17-27c23a6053a2",
   "metadata": {},
   "outputs": [
    {
     "data": {
      "text/plain": [
       "((1488, 14), (497, 14), (1488,), (497,))"
      ]
     },
     "execution_count": 220,
     "metadata": {},
     "output_type": "execute_result"
    }
   ],
   "source": [
    "X_train.shape, X_test.shape, y_train.shape, y_test.shape"
   ]
  },
  {
   "cell_type": "code",
   "execution_count": 222,
   "id": "783b49f8-c85e-4827-8907-ed9482667cee",
   "metadata": {},
   "outputs": [],
   "source": [
    "ss = StandardScaler()\n",
    "X_train_scaled = ss.fit_transform(X_train)\n",
    "X_test_scaled = ss.transform(X_test)"
   ]
  },
  {
   "cell_type": "code",
   "execution_count": 250,
   "id": "902b5fd3-e6b4-4e44-8ae3-9fc4810609fa",
   "metadata": {},
   "outputs": [],
   "source": [
    "from sklearn.ensemble import RandomForestClassifier\n",
    "\n",
    "random_forest = RandomForestClassifier(n_estimators = 250)\n",
    "\n",
    "random_forest.fit(X_train_scaled, y_train)\n",
    "predictions = random_forest.predict(X_test_scaled)"
   ]
  },
  {
   "cell_type": "code",
   "execution_count": 251,
   "id": "a8036f39-b681-4649-9d4e-fdf4a5136d43",
   "metadata": {},
   "outputs": [],
   "source": [
    "from sklearn.metrics import accuracy_score, f1_score, precision_score, recall_score"
   ]
  },
  {
   "cell_type": "code",
   "execution_count": 254,
   "id": "9b034944-5d85-4136-93c2-460f1a12ffef",
   "metadata": {},
   "outputs": [],
   "source": [
    "def get_score(y_true, y_predicted):\n",
    "    print(f'Accuracy: {accuracy_score(y_true=y_test, y_pred=predictions)}')\n",
    "    print(f'Precision: {precision_score(y_true=y_test, y_pred=predictions)}')\n",
    "    print(f'Recall: {recall_score(y_true=y_test, y_pred=predictions)}')\n",
    "    print(f'F1 score: {f1_score(y_true=y_test, y_pred=predictions)}')"
   ]
  },
  {
   "cell_type": "code",
   "execution_count": 256,
   "id": "11a0bbd1-9f93-4156-afcd-13862d2ea6f1",
   "metadata": {},
   "outputs": [
    {
     "name": "stdout",
     "output_type": "stream",
     "text": [
      "Accuracy: 0.9577464788732394\n",
      "Precision: 0.9471698113207547\n",
      "Recall: 0.9728682170542635\n",
      "F1 score: 0.9598470363288719\n"
     ]
    }
   ],
   "source": [
    "get_score(y_test, predictions)"
   ]
  },
  {
   "cell_type": "code",
   "execution_count": null,
   "id": "92a122bd-c1c4-4117-b020-6f19bf433366",
   "metadata": {},
   "outputs": [],
   "source": []
  }
 ],
 "metadata": {
  "kernelspec": {
   "display_name": "Python [conda env:base] *",
   "language": "python",
   "name": "conda-base-py"
  },
  "language_info": {
   "codemirror_mode": {
    "name": "ipython",
    "version": 3
   },
   "file_extension": ".py",
   "mimetype": "text/x-python",
   "name": "python",
   "nbconvert_exporter": "python",
   "pygments_lexer": "ipython3",
   "version": "3.12.7"
  }
 },
 "nbformat": 4,
 "nbformat_minor": 5
}
